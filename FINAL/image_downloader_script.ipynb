{
 "cells": [
  {
   "cell_type": "markdown",
   "metadata": {},
   "source": [
    "## Downloader\n",
    "This is the downloading script we used to get the images"
   ]
  },
  {
   "cell_type": "code",
   "execution_count": null,
   "metadata": {},
   "outputs": [],
   "source": [
    "import re\n",
    "import requests\n",
    "from bs4 import BeautifulSoup\n",
    "\n",
    "from PIL import Image\n",
    "from resizeimage import resizeimage\n",
    "from io import BytesIO\n",
    "\n",
    "for i in range(0, 5000) :\n",
    "    site = 'https://pixabay.com/hu/photos/?&pagi='  + str(i)\n",
    "\n",
    "    response = requests.get(site)\n",
    "\n",
    "    soup = BeautifulSoup(response.text, 'html.parser')\n",
    "    img_tags = soup.find_all('img')\n",
    "\n",
    "    urls = [img['src'] for img in img_tags]\n",
    "\n",
    "    for url in urls:\n",
    "        filename = re.search(r'/([\\w_-]+[.](jpg|gif|png))$', url)\n",
    "        if ((not '.gif' in filename.group(1)) and (not '.png' in filename.group(1))):\n",
    "            with open(filename.group(1), 'wb') as file:\n",
    "                if 'http' not in url:\n",
    "                    url = '{}{}'.format(site, url)\n",
    "                response = requests.get(url)\n",
    "                img = Image.open(BytesIO(response.content))\n",
    "                img = resizeimage.resize_cover(img, [256, 256])\n",
    "                img.save(file, \"JPEG\")\n",
    "    print(i)\n"
   ]
  }
 ],
 "metadata": {
  "kernelspec": {
   "display_name": "Python 3",
   "language": "python",
   "name": "python3"
  },
  "language_info": {
   "codemirror_mode": {
    "name": "ipython",
    "version": 3
   },
   "file_extension": ".py",
   "mimetype": "text/x-python",
   "name": "python",
   "nbconvert_exporter": "python",
   "pygments_lexer": "ipython3",
   "version": "3.6.2"
  }
 },
 "nbformat": 4,
 "nbformat_minor": 2
}
